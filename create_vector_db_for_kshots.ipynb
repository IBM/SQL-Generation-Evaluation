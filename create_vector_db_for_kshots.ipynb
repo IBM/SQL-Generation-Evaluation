{
 "cells": [
  {
   "cell_type": "code",
   "execution_count": 1,
   "metadata": {},
   "outputs": [
    {
     "data": {
      "text/html": [
       "<div>\n",
       "<style scoped>\n",
       "    .dataframe tbody tr th:only-of-type {\n",
       "        vertical-align: middle;\n",
       "    }\n",
       "\n",
       "    .dataframe tbody tr th {\n",
       "        vertical-align: top;\n",
       "    }\n",
       "\n",
       "    .dataframe thead th {\n",
       "        text-align: right;\n",
       "    }\n",
       "</style>\n",
       "<table border=\"1\" class=\"dataframe\">\n",
       "  <thead>\n",
       "    <tr style=\"text-align: right;\">\n",
       "      <th></th>\n",
       "      <th>question</th>\n",
       "      <th>query</th>\n",
       "    </tr>\n",
       "  </thead>\n",
       "  <tbody>\n",
       "    <tr>\n",
       "      <th>0</th>\n",
       "      <td>What is the number of POS terminals in Spain a...</td>\n",
       "      <td>select year_2022 from devices where title like...</td>\n",
       "    </tr>\n",
       "    <tr>\n",
       "      <th>1</th>\n",
       "      <td>Which country has the highest number of cards ...</td>\n",
       "      <td>select reporting_country , sum(coalesce(year_2...</td>\n",
       "    </tr>\n",
       "    <tr>\n",
       "      <th>2</th>\n",
       "      <td>What is the number of cards with a delayed deb...</td>\n",
       "      <td>select sum(year_2022)  from devices where func...</td>\n",
       "    </tr>\n",
       "    <tr>\n",
       "      <th>3</th>\n",
       "      <td>How many cards in Belgium are able to initiate...</td>\n",
       "      <td>select sum(year_2022) from devices where devic...</td>\n",
       "    </tr>\n",
       "    <tr>\n",
       "      <th>4</th>\n",
       "      <td>What is the number of POS terminals in Indonesia?</td>\n",
       "      <td>select sum(year_2022) from devices where title...</td>\n",
       "    </tr>\n",
       "    <tr>\n",
       "      <th>5</th>\n",
       "      <td>What is the number of cards with a debit funct...</td>\n",
       "      <td>select sum(year_2022) from devices where funct...</td>\n",
       "    </tr>\n",
       "    <tr>\n",
       "      <th>6</th>\n",
       "      <td>How many contactless cards are there in India?</td>\n",
       "      <td>select sum(year_2022) from devices where techn...</td>\n",
       "    </tr>\n",
       "    <tr>\n",
       "      <th>7</th>\n",
       "      <td>What is the number of contactless cards in Eng...</td>\n",
       "      <td>select sum(year_2022) from devices where techn...</td>\n",
       "    </tr>\n",
       "    <tr>\n",
       "      <th>8</th>\n",
       "      <td>What is the number of cards with an e-money fu...</td>\n",
       "      <td>select sum(year_2022) from devices where funct...</td>\n",
       "    </tr>\n",
       "    <tr>\n",
       "      <th>9</th>\n",
       "      <td>Which country has the highest number of cards ...</td>\n",
       "      <td>select sum(coalesce(year_2022,0)) as total, re...</td>\n",
       "    </tr>\n",
       "  </tbody>\n",
       "</table>\n",
       "</div>"
      ],
      "text/plain": [
       "                                            question  \\\n",
       "0  What is the number of POS terminals in Spain a...   \n",
       "1  Which country has the highest number of cards ...   \n",
       "2  What is the number of cards with a delayed deb...   \n",
       "3  How many cards in Belgium are able to initiate...   \n",
       "4  What is the number of POS terminals in Indonesia?   \n",
       "5  What is the number of cards with a debit funct...   \n",
       "6     How many contactless cards are there in India?   \n",
       "7  What is the number of contactless cards in Eng...   \n",
       "8  What is the number of cards with an e-money fu...   \n",
       "9  Which country has the highest number of cards ...   \n",
       "\n",
       "                                               query  \n",
       "0  select year_2022 from devices where title like...  \n",
       "1  select reporting_country , sum(coalesce(year_2...  \n",
       "2  select sum(year_2022)  from devices where func...  \n",
       "3  select sum(year_2022) from devices where devic...  \n",
       "4  select sum(year_2022) from devices where title...  \n",
       "5  select sum(year_2022) from devices where funct...  \n",
       "6  select sum(year_2022) from devices where techn...  \n",
       "7  select sum(year_2022) from devices where techn...  \n",
       "8  select sum(year_2022) from devices where funct...  \n",
       "9  select sum(coalesce(year_2022,0)) as total, re...  "
      ]
     },
     "execution_count": 1,
     "metadata": {},
     "output_type": "execute_result"
    }
   ],
   "source": [
    "import pandas as pd\n",
    "df = pd.read_csv('data/devices_sample_qns.csv')\n",
    "df\n",
    "meta=True\n",
    "df"
   ]
  },
  {
   "cell_type": "code",
   "execution_count": 2,
   "metadata": {},
   "outputs": [
    {
     "data": {
      "text/plain": [
       "[{'query': \"select year_2022 from devices where title like '%Number of POS terminals%' and reporting_country='Spain' and collection_indicator='End of period';\"},\n",
       " {'query': \"select reporting_country , sum(coalesce(year_2022,0)) as total from devices where function_verbose='Cards with cash function' group by reporting_country order by total desc limit 1\"},\n",
       " {'query': \"select sum(year_2022)\\xa0 from devices where function_verbose='Cards with delayed debit function' and reporting_country='Canada'\"},\n",
       " {'query': \"select sum(year_2022) from devices where device_present_device_not_present='Able to initiate device-not-present payments' and reporting_country='Belgium'\"},\n",
       " {'query': \"select sum(year_2022) from devices where title like '%Number of POS terminals%' and reporting_country='Indonesia'\"},\n",
       " {'query': \"select sum(year_2022) from devices where function_verbose='Cards with debit function' and reporting_country='Türkiye'\"},\n",
       " {'query': \"select sum(year_2022) from devices where technology_verbose='Contactless' and reporting_country='India'\"},\n",
       " {'query': \"select sum(year_2022) from devices where technology_verbose='Contactless' and reporting_country='England'\\xa0 and device_type_verbose='Card'\"},\n",
       " {'query': \"select sum(year_2022) from devices where function_verbose='Cards with e-money function' and reporting_country='China'\\xa0 and device_type_verbose='Card'\"},\n",
       " {'query': \"select sum(coalesce(year_2022,0)) as total, reporting_country from devices where function_verbose='Cards with delayed debit function' \\xa0 and device_type_verbose='Card' group by reporting_country order by total desc limit 1\"}]"
      ]
     },
     "execution_count": 2,
     "metadata": {},
     "output_type": "execute_result"
    }
   ],
   "source": [
    "texts=df.question.tolist()\n",
    "metadata=[{'query':query } for query in df['query'].values]\n",
    "\n",
    "\n",
    "metadata\n",
    "\n"
   ]
  },
  {
   "cell_type": "code",
   "execution_count": 3,
   "metadata": {},
   "outputs": [],
   "source": [
    "\n",
    "# do not change chromadb name\n",
    "ids=[str(i) for i in df.index]\n",
    "local_directory='./chromadb'\n"
   ]
  },
  {
   "cell_type": "code",
   "execution_count": 4,
   "metadata": {},
   "outputs": [
    {
     "name": "stdout",
     "output_type": "stream",
     "text": [
      "ChromaDB './chromadb' not found.\n"
     ]
    }
   ],
   "source": [
    "import shutil\n",
    "try: \n",
    "    shutil.rmtree(local_directory)\n",
    "    print(f\"ChromaDB '{local_directory}' deleted successfully.\")\n",
    "\n",
    "except FileNotFoundError: \n",
    "    print(f\"ChromaDB '{local_directory}' not found.\")"
   ]
  },
  {
   "cell_type": "code",
   "execution_count": null,
   "metadata": {},
   "outputs": [
    {
     "name": "stderr",
     "output_type": "stream",
     "text": [
      "/Library/Frameworks/Python.framework/Versions/3.11/lib/python3.11/site-packages/tqdm/auto.py:21: TqdmWarning: IProgress not found. Please update jupyter and ipywidgets. See https://ipywidgets.readthedocs.io/en/stable/user_install.html\n",
      "  from .autonotebook import tqdm as notebook_tqdm\n"
     ]
    },
    {
     "name": "stdout",
     "output_type": "stream",
     "text": [
      "docs in devices :  10\n"
     ]
    }
   ],
   "source": [
    "#change collection name as you want and give it as command line argument(-col) to main.py\n",
    "\n",
    "import chromadb\n",
    "import chromadb.utils.embedding_functions as embedding_functions\n",
    "ef = embedding_functions.SentenceTransformerEmbeddingFunction()\n",
    "\n",
    "chroma = chromadb.PersistentClient(path=local_directory)\n",
    "collection_name=\"devices\"\n",
    "collection = chroma.get_or_create_collection(name=collection_name, embedding_function=ef)\n",
    "collection.add(documents=texts, metadatas=metadata, ids=ids)\n",
    "\n",
    "print(f'docs in {collection_name} : ', len(collection.get()['documents']))"
   ]
  },
  {
   "cell_type": "code",
   "execution_count": 7,
   "metadata": {},
   "outputs": [],
   "source": [
    "query_result = collection.query(query_texts=['What is the number of POS terminals in Belgium?'], n_results=2)"
   ]
  },
  {
   "cell_type": "code",
   "execution_count": 8,
   "metadata": {},
   "outputs": [
    {
     "data": {
      "text/plain": [
       "{'ids': [['4', '0']],\n",
       " 'embeddings': None,\n",
       " 'documents': [['What is the number of POS terminals in Indonesia?',\n",
       "   'What is the number of POS terminals in Spain as of the end of the reporting period?']],\n",
       " 'uris': None,\n",
       " 'data': None,\n",
       " 'metadatas': [[{'query': \"select sum(year_2022) from devices where title like '%Number of POS terminals%' and reporting_country='Indonesia'\"},\n",
       "   {'query': \"select year_2022 from devices where title like '%Number of POS terminals%' and reporting_country='Spain' and collection_indicator='End of period';\"}]],\n",
       " 'distances': [[0.32367157294965254, 0.45506188966841393]],\n",
       " 'included': [<IncludeEnum.distances: 'distances'>,\n",
       "  <IncludeEnum.documents: 'documents'>,\n",
       "  <IncludeEnum.metadatas: 'metadatas'>]}"
      ]
     },
     "execution_count": 8,
     "metadata": {},
     "output_type": "execute_result"
    }
   ],
   "source": [
    "query_result"
   ]
  },
  {
   "cell_type": "code",
   "execution_count": 9,
   "metadata": {},
   "outputs": [
    {
     "name": "stdout",
     "output_type": "stream",
     "text": [
      "Examples \n",
      "queston : What is the number of POS terminals in Indonesia?\n",
      "query : select sum(year_2022) from devices where title like '%Number of POS terminals%' and reporting_country='Indonesia'\n",
      "queston : What is the number of POS terminals in Spain as of the end of the reporting period?\n",
      "query : select year_2022 from devices where title like '%Number of POS terminals%' and reporting_country='Spain' and collection_indicator='End of period';\n",
      "\n"
     ]
    }
   ],
   "source": [
    "few_shots='Examples \\n'\n",
    "for i,j in zip(query_result['documents'][0],query_result['metadatas'][0]):\n",
    "    few_shots=few_shots+'queston : '+i +'\\n'+'query : '+j['query']+'\\n'\n",
    "print(few_shots)"
   ]
  },
  {
   "cell_type": "code",
   "execution_count": 10,
   "metadata": {},
   "outputs": [
    {
     "name": "stdout",
     "output_type": "stream",
     "text": [
      "7\n"
     ]
    }
   ],
   "source": [
    "if not False:\n",
    "    print(7)"
   ]
  }
 ],
 "metadata": {
  "kernelspec": {
   "display_name": "Python 3",
   "language": "python",
   "name": "python3"
  },
  "language_info": {
   "codemirror_mode": {
    "name": "ipython",
    "version": 3
   },
   "file_extension": ".py",
   "mimetype": "text/x-python",
   "name": "python",
   "nbconvert_exporter": "python",
   "pygments_lexer": "ipython3",
   "version": "3.11.9"
  }
 },
 "nbformat": 4,
 "nbformat_minor": 2
}
