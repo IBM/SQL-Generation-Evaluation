{
 "cells": [
  {
   "cell_type": "code",
   "execution_count": 1,
   "metadata": {},
   "outputs": [],
   "source": [
    "from sqlalchemy import create_engine, text\n",
    "import pandas as pd\n",
    "import re\n",
    "LIKE_PATTERN = r\"LIKE[\\s\\S]*'\"\n",
    "from func_timeout import func_timeout\n",
    "from utils.creds import db_creds_all\n",
    "\n",
    "# for escaping percent signs in regex matches\n",
    "def escape_percent(match):\n",
    "    # Extract the matched group\n",
    "    group = match.group(0)\n",
    "    # Replace '%' with '%%' within the matched group\n",
    "    escaped_group = group.replace(\"%\", \"%%\")\n",
    "    # Return the escaped group\n",
    "    return escaped_group\n",
    "\n",
    "def query_postgres_db(\n",
    "    query: str,\n",
    "    db_name: str,\n",
    "    db_creds: dict = None,\n",
    "    timeout: float = 10.0,\n",
    "    decimal_points: int = None,\n",
    ") -> pd.DataFrame:\n",
    "    \"\"\"\n",
    "    Runs query on postgres db and returns results as a dataframe.\n",
    "    This assumes that you have the evaluation database running locally.\n",
    "    If you don't, you can following the instructions in the README (Start Postgres Instance) to set it up.\n",
    "\n",
    "    timeout: time in seconds to wait for query to finish before timing out\n",
    "    decimal_points: number of decimal points to round floats to\n",
    "    \"\"\"\n",
    "    engine = None\n",
    "    if db_creds is None:\n",
    "        db_creds = db_creds_all[\"postgres\"]\n",
    "    try:\n",
    "        try:\n",
    "            import psycopg\n",
    "\n",
    "            has_psycopg = True\n",
    "        except ImportError:\n",
    "            has_psycopg = False\n",
    "        try:\n",
    "            import psycopg2\n",
    "\n",
    "            has_psycopg2 = True\n",
    "        except ImportError:\n",
    "            has_psycopg2 = False\n",
    "        if not has_psycopg2 and not has_psycopg:\n",
    "            print(\n",
    "                \"You do not have psycopg2 or psycopg installed. Please install either.\"\n",
    "            )\n",
    "            exit(1)\n",
    "        if has_psycopg2:\n",
    "            dialect_prefix = \"postgresql\"\n",
    "        elif has_psycopg:\n",
    "            dialect_prefix = \"postgresql+psycopg\"\n",
    "        db_url = f\"{dialect_prefix}://{db_creds['user']}:{db_creds['password']}@{db_creds['host']}:{db_creds['port']}/{db_name}\"\n",
    "        engine = create_engine(db_url)\n",
    "        escaped_query = re.sub(\n",
    "            LIKE_PATTERN, escape_percent, query, flags=re.IGNORECASE\n",
    "        )  # ignore case of LIKE\n",
    "        results_df = func_timeout(\n",
    "            timeout, pd.read_sql_query, args=(escaped_query, engine)\n",
    "        )\n",
    "\n",
    "        # round floats to decimal_points\n",
    "        if decimal_points:\n",
    "            results_df = results_df.round(decimal_points)\n",
    "\n",
    "        engine.dispose()  # close connection\n",
    "        return results_df\n",
    "    except Exception as e:\n",
    "        if engine:\n",
    "            engine.dispose()  # close connection if query fails/timeouts\n",
    "        raise e"
   ]
  },
  {
   "cell_type": "code",
   "execution_count": 2,
   "metadata": {},
   "outputs": [],
   "source": [
    "import traceback\n",
    "\n",
    "try:\n",
    "    df=query_postgres_db('''\n",
    "select year_2022 from devices where title like '%Number of POS terminals%' and reporting_country='T√ºrkiye' and collection_indicator='End of period';\n",
    "''','cpmi')\n",
    "except Exception as e:\n",
    "    print(e._sql_message())\n"
   ]
  },
  {
   "cell_type": "code",
   "execution_count": 3,
   "metadata": {},
   "outputs": [
    {
     "data": {
      "text/html": [
       "<div>\n",
       "<style scoped>\n",
       "    .dataframe tbody tr th:only-of-type {\n",
       "        vertical-align: middle;\n",
       "    }\n",
       "\n",
       "    .dataframe tbody tr th {\n",
       "        vertical-align: top;\n",
       "    }\n",
       "\n",
       "    .dataframe thead th {\n",
       "        text-align: right;\n",
       "    }\n",
       "</style>\n",
       "<table border=\"1\" class=\"dataframe\">\n",
       "  <thead>\n",
       "    <tr style=\"text-align: right;\">\n",
       "      <th></th>\n",
       "      <th>year_2022</th>\n",
       "    </tr>\n",
       "  </thead>\n",
       "  <tbody>\n",
       "  </tbody>\n",
       "</table>\n",
       "</div>"
      ],
      "text/plain": [
       "Empty DataFrame\n",
       "Columns: [year_2022]\n",
       "Index: []"
      ]
     },
     "execution_count": 3,
     "metadata": {},
     "output_type": "execute_result"
    }
   ],
   "source": [
    "df"
   ]
  }
 ],
 "metadata": {
  "kernelspec": {
   "display_name": "Python 3",
   "language": "python",
   "name": "python3"
  },
  "language_info": {
   "codemirror_mode": {
    "name": "ipython",
    "version": 3
   },
   "file_extension": ".py",
   "mimetype": "text/x-python",
   "name": "python",
   "nbconvert_exporter": "python",
   "pygments_lexer": "ipython3",
   "version": "3.11.9"
  }
 },
 "nbformat": 4,
 "nbformat_minor": 2
}
